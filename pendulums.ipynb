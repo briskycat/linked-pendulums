{
 "cells": [
  {
   "cell_type": "code",
   "execution_count": 1,
   "metadata": {},
   "outputs": [
    {
     "name": "stdout",
     "output_type": "stream",
     "text": [
      "Note: you may need to restart the kernel to use updated packages.\n"
     ]
    }
   ],
   "source": [
    "%pip install -q sympy numpy scipy matplotlib ipywidgets"
   ]
  },
  {
   "cell_type": "code",
   "execution_count": 2,
   "metadata": {},
   "outputs": [],
   "source": [
    "import sympy as sp\n",
    "import numpy as np\n",
    "import scipy.constants as const\n",
    "from scipy.integrate import odeint\n",
    "import matplotlib.pyplot as plt\n",
    "from IPython.display import display, Math\n",
    "from ipywidgets import interactive\n"
   ]
  },
  {
   "cell_type": "code",
   "execution_count": 3,
   "metadata": {},
   "outputs": [],
   "source": [
    "# Define the symbols\n",
    "t = sp.symbols('t')  # Time variable\n",
    "m, g, L0 = sp.symbols('m g L0')  # Mass, gravity and string length\n",
    "θ = sp.Function('θ')(t)  # Theta as a function of time\n",
    "l = sp.Function('l')(t)  # Length as a function of time\n",
    "\n",
    "# Define the derivatives\n",
    "θ_dot = sp.diff(θ, t)  # First derivative of θ with respect to time\n",
    "l_dot = sp.diff(l, t)  # First derivative of l with respect to time\n",
    "θ_double_dot = sp.diff(θ, t, 2)  # Second derivative of θ with respect to time\n",
    "l_double_dot = sp.diff(l, t, 2)  # Second derivative of l with respect to time\n"
   ]
  },
  {
   "cell_type": "code",
   "execution_count": 4,
   "metadata": {},
   "outputs": [],
   "source": [
    "# Define Lagrangian\n",
    "T = 1/2 * m * (l_dot**2 + l**2 * θ_dot**2) + 1/2 * m * l_dot**2  # Kinetic energy\n",
    "V = - m * g * l * sp.cos(θ) - m * g * (L0 - l)  # Potential energy\n",
    "\n",
    "# Lagrangian\n",
    "L = T - V\n"
   ]
  },
  {
   "cell_type": "code",
   "execution_count": 5,
   "metadata": {},
   "outputs": [
    {
     "data": {
      "text/latex": [
       "$\\displaystyle T = 0.5 m \\left(l^{2}{\\left(t \\right)} \\left(\\frac{d}{d t} θ{\\left(t \\right)}\\right)^{2} + \\left(\\frac{d}{d t} l{\\left(t \\right)}\\right)^{2}\\right) + 0.5 m \\left(\\frac{d}{d t} l{\\left(t \\right)}\\right)^{2}$"
      ],
      "text/plain": [
       "<IPython.core.display.Math object>"
      ]
     },
     "metadata": {},
     "output_type": "display_data"
    },
    {
     "data": {
      "text/latex": [
       "$\\displaystyle V = - g m \\left(L_{0} - l{\\left(t \\right)}\\right) - g m l{\\left(t \\right)} \\cos{\\left(θ{\\left(t \\right)} \\right)}$"
      ],
      "text/plain": [
       "<IPython.core.display.Math object>"
      ]
     },
     "metadata": {},
     "output_type": "display_data"
    },
    {
     "data": {
      "text/latex": [
       "$\\displaystyle L = T - V = g m \\left(L_{0} - l{\\left(t \\right)}\\right) + g m l{\\left(t \\right)} \\cos{\\left(θ{\\left(t \\right)} \\right)} + 0.5 m \\left(l^{2}{\\left(t \\right)} \\left(\\frac{d}{d t} θ{\\left(t \\right)}\\right)^{2} + \\left(\\frac{d}{d t} l{\\left(t \\right)}\\right)^{2}\\right) + 0.5 m \\left(\\frac{d}{d t} l{\\left(t \\right)}\\right)^{2}$"
      ],
      "text/plain": [
       "<IPython.core.display.Math object>"
      ]
     },
     "metadata": {},
     "output_type": "display_data"
    }
   ],
   "source": [
    "display(Math('T = ' + sp.latex(T)))\n",
    "display(Math('V = ' + sp.latex(V)))\n",
    "display(Math('L = T - V = ' + sp.latex(L)))"
   ]
  },
  {
   "cell_type": "code",
   "execution_count": 6,
   "metadata": {},
   "outputs": [],
   "source": [
    "# Derive equations of motion (Applying Euler-Lagrange equations)\n",
    "del_θ = sp.diff(sp.diff(L, θ_dot), t) - sp.diff(L, θ)\n",
    "del_l = sp.diff(sp.diff(L, l_dot), t) - sp.diff(L, l)\n"
   ]
  },
  {
   "cell_type": "code",
   "execution_count": 7,
   "metadata": {},
   "outputs": [
    {
     "data": {
      "text/latex": [
       "$\\displaystyle m \\left(g \\sin{\\left(θ{\\left(t \\right)} \\right)} + 1.0 l{\\left(t \\right)} \\frac{d^{2}}{d t^{2}} θ{\\left(t \\right)} + 2.0 \\frac{d}{d t} l{\\left(t \\right)} \\frac{d}{d t} θ{\\left(t \\right)}\\right) l{\\left(t \\right)} = 0$"
      ],
      "text/plain": [
       "<IPython.core.display.Math object>"
      ]
     },
     "metadata": {},
     "output_type": "display_data"
    },
    {
     "data": {
      "text/latex": [
       "$\\displaystyle m \\left(- g \\cos{\\left(θ{\\left(t \\right)} \\right)} + g - 1.0 l{\\left(t \\right)} \\left(\\frac{d}{d t} θ{\\left(t \\right)}\\right)^{2} + 2.0 \\frac{d^{2}}{d t^{2}} l{\\left(t \\right)}\\right) = 0$"
      ],
      "text/plain": [
       "<IPython.core.display.Math object>"
      ]
     },
     "metadata": {},
     "output_type": "display_data"
    }
   ],
   "source": [
    "# Simplify the equations\n",
    "del_θ = sp.simplify(del_θ)\n",
    "del_l = sp.simplify(del_l)\n",
    "\n",
    "display(Math(sp.latex(del_θ) + ' = 0'))\n",
    "display(Math(sp.latex(del_l) + ' = 0'))\n"
   ]
  },
  {
   "cell_type": "code",
   "execution_count": 8,
   "metadata": {},
   "outputs": [
    {
     "data": {
      "text/latex": [
       "$\\displaystyle \\ddot{θ}(t) = - \\frac{g \\sin{\\left(θ{\\left(t \\right)} \\right)} + 2.0 \\frac{d}{d t} l{\\left(t \\right)} \\frac{d}{d t} θ{\\left(t \\right)}}{l{\\left(t \\right)}}$"
      ],
      "text/plain": [
       "<IPython.core.display.Math object>"
      ]
     },
     "metadata": {},
     "output_type": "display_data"
    },
    {
     "data": {
      "text/latex": [
       "$\\displaystyle \\ddot{l}(t) = 0.5 g \\cos{\\left(θ{\\left(t \\right)} \\right)} - 0.5 g + 0.5 l{\\left(t \\right)} \\left(\\frac{d}{d t} θ{\\left(t \\right)}\\right)^{2}$"
      ],
      "text/plain": [
       "<IPython.core.display.Math object>"
      ]
     },
     "metadata": {},
     "output_type": "display_data"
    }
   ],
   "source": [
    "# Convert to expressions for the second derivatives\n",
    "θ_double_dot_expr = sp.solve(del_θ, θ_double_dot)[0]\n",
    "l_double_dot_expr = sp.solve(del_l, l_double_dot)[0]\n",
    "display(Math('\\ddot{θ}(t) = ' + sp.latex(θ_double_dot_expr)))\n",
    "display(Math('\\ddot{l}(t) = ' + sp.latex(l_double_dot_expr)))\n"
   ]
  },
  {
   "cell_type": "code",
   "execution_count": 9,
   "metadata": {},
   "outputs": [],
   "source": [
    "# Convert sympy expressions to lambdified functions for numerical evaluation\n",
    "\n",
    "θ_double_dot_num_expr = sp.lambdify(\n",
    "    (θ, l, θ_dot, l_dot, m, g, L0), θ_double_dot_expr, 'numpy')\n",
    "l_double_dot_num_expr = sp.lambdify(\n",
    "    (θ, l, θ_dot, l_dot, m, g, L0), l_double_dot_expr, 'numpy')\n"
   ]
  },
  {
   "cell_type": "code",
   "execution_count": 10,
   "metadata": {},
   "outputs": [],
   "source": [
    "def pendulum_system(y, t, m, g, L0):\n",
    "    # Unpack the system state variables\n",
    "    θ_n, l_n, θ_dot_n, l_dot_n = y\n",
    "\n",
    "    θ_double_dot_n = θ_double_dot_num_expr(\n",
    "        θ_n, l_n, θ_dot_n, l_dot_n, m, g, L0)\n",
    "    l_double_dot_n = l_double_dot_num_expr(\n",
    "        θ_n, l_n, θ_dot_n, l_dot_n, m, g, L0)\n",
    "\n",
    "    return [θ_dot_n, l_dot_n, θ_double_dot_n, l_double_dot_n]\n"
   ]
  },
  {
   "cell_type": "code",
   "execution_count": 11,
   "metadata": {},
   "outputs": [],
   "source": [
    "def solve_pendulum_system(θ0=const.pi/32, l0=1.0, θ_dot0=0.0, l_dot0=0.0, duration=10):\n",
    "    # set the parameters for the motion\n",
    "    m = 1.0  # mass. The equations above do not really depend on it, but defining it here for completeness\n",
    "\n",
    "    # # set the initial conditions\n",
    "    # θ0 = const.pi/32\n",
    "    # l0 = 1.0\n",
    "    # θ_dot0 = 0.0\n",
    "    # l_dot0 = 0.0\n",
    "\n",
    "    # duration = 10\n",
    "\n",
    "    # set the time values at which to solve\n",
    "    # from 0 to `duration` seconds, 10000 evaluation points\n",
    "    t = np.linspace(0, duration, 10000)\n",
    "\n",
    "    # solve the system\n",
    "    solution = odeint(pendulum_system, [\n",
    "        θ0, l0, l_dot0, θ_dot0], t, args=(m, const.g, l0))\n",
    "\n",
    "    θ_n_t = solution[:, 0]\n",
    "    l_n_t = solution[:, 1]\n",
    "\n",
    "    # Visualize the solution\n",
    "    plt.figure(figsize=(12, 6))\n",
    "\n",
    "    plt.subplot(1, 2, 1)\n",
    "    plt.plot(t, l_n_t)\n",
    "    plt.xlabel('time (t)')\n",
    "    plt.ylabel('l(t)')\n",
    "\n",
    "    plt.subplot(1, 2, 2)\n",
    "    plt.plot(t, θ_n_t)\n",
    "    plt.xlabel('time (t)')\n",
    "    plt.ylabel('θ(t)')\n",
    "    plt.show()\n"
   ]
  },
  {
   "cell_type": "code",
   "execution_count": 12,
   "metadata": {},
   "outputs": [
    {
     "data": {
      "application/vnd.jupyter.widget-view+json": {
       "model_id": "5a933fbd71f44be28f573fa01f245bd5",
       "version_major": 2,
       "version_minor": 0
      },
      "text/plain": [
       "interactive(children=(FloatSlider(value=0.09817477042468103, description='θ0', max=0.7853981633974483), FloatS…"
      ]
     },
     "execution_count": 12,
     "metadata": {},
     "output_type": "execute_result"
    }
   ],
   "source": [
    "\n",
    "w = interactive(solve_pendulum_system, θ0=(0, const.pi/4), l0=(1.0, 100),\n",
    "                θ_dot0=(0.0, const.pi), l_dot0=(0.0, 10), duration=(0.1, 100))\n",
    "\n",
    "w\n"
   ]
  },
  {
   "cell_type": "code",
   "execution_count": null,
   "metadata": {},
   "outputs": [],
   "source": []
  }
 ],
 "metadata": {
  "kernelspec": {
   "display_name": "Python 3",
   "language": "python",
   "name": "python3"
  },
  "language_info": {
   "codemirror_mode": {
    "name": "ipython",
    "version": 3
   },
   "file_extension": ".py",
   "mimetype": "text/x-python",
   "name": "python",
   "nbconvert_exporter": "python",
   "pygments_lexer": "ipython3",
   "version": "3.10.6"
  },
  "orig_nbformat": 4
 },
 "nbformat": 4,
 "nbformat_minor": 2
}
